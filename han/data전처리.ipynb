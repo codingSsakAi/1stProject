{
 "cells": [
  {
   "cell_type": "code",
   "execution_count": 1,
   "id": "8fc56306",
   "metadata": {},
   "outputs": [
    {
     "name": "stderr",
     "output_type": "stream",
     "text": [
      "Importing plotly failed. Interactive plots will not work.\n"
     ]
    }
   ],
   "source": [
    "import pandas as pd\n",
    "import numpy as np\n",
    "from prophet import Prophet\n",
    "from xgboost import XGBRegressor\n",
    "from sklearn.metrics import mean_squared_error\n",
    "import matplotlib.pyplot as plt\n",
    "import platform"
   ]
  },
  {
   "cell_type": "code",
   "execution_count": 38,
   "id": "7eb7f942",
   "metadata": {},
   "outputs": [],
   "source": [
    "# 1️⃣ CSV 로드 + 기본 필터링\n",
    "df = pd.read_csv(\"data/1_2_(로우데이터_합본.csv)목적별_국적별_입국(05년1월~25년5월).csv\", encoding='cp949')\n",
    "\n",
    "df = df[\n",
    "    (~df['국적'].str.endswith('주', na=False)) &\n",
    "    (~df['국적'].str.endswith('기타', na=False)) &\n",
    "    (~df['국적'].isin(['소 계', '전 체', '미상', '기 타', '교포', '중 동'])) &\n",
    "    (~df['목적'].isin(['소 계', '전 체']))\n",
    "]\n",
    "\n",
    "df = df[df['국적'].notna()]\n",
    "\n",
    "# 2️⃣ 컬럼 나누기\n",
    "fixed_cols = ['국적', '목적']\n",
    "date_cols = [col for col in df.columns if ('년' in col and '월' in col)]\n",
    "\n",
    "# ✅ 3️⃣ 제외 범위: 2020년 3월 ~ 2022년 6월\n",
    "cols_to_drop = []\n",
    "for col in date_cols:\n",
    "    year = int(col.split('년')[0])\n",
    "    month = int(col.split('년')[1].replace('월', '').zfill(2))\n",
    "    ym = year * 100 + month\n",
    "    if 202003 <= ym <= 202206:\n",
    "        cols_to_drop.append(col)\n",
    "\n",
    "# ✅ 마지막 2개 열 제외하고 범위 제외까지\n",
    "date_cols_final = [col for col in date_cols if col not in cols_to_drop][:-2]\n",
    "cols_to_use = fixed_cols + date_cols_final\n",
    "\n",
    "df = df[cols_to_use]\n",
    "\n",
    "# 4️⃣ 날짜 컬럼 쉼표 제거 + 소수점 버리기\n",
    "for col in date_cols_final:\n",
    "    df[col] = df[col].astype(str).str.replace(',', '').astype(float).astype(int)\n",
    "\n",
    "# 5️⃣ 헤더 행 추가\n",
    "new_row = pd.DataFrame(\n",
    "    [[None, None] + ['인원(명)'] * len(date_cols_final)],\n",
    "    columns=cols_to_use\n",
    ")\n",
    "df_final = pd.concat([new_row, df], ignore_index=True)\n",
    "\n",
    "# 6️⃣ 저장\n",
    "df_final.to_csv(\"data/목적별_국적별_입국_소계제거.csv\", index=False, encoding='cp949')\n"
   ]
  },
  {
   "cell_type": "code",
   "execution_count": null,
   "id": "213c4e86",
   "metadata": {},
   "outputs": [],
   "source": []
  }
 ],
 "metadata": {
  "kernelspec": {
   "display_name": "han",
   "language": "python",
   "name": "python3"
  },
  "language_info": {
   "codemirror_mode": {
    "name": "ipython",
    "version": 3
   },
   "file_extension": ".py",
   "mimetype": "text/x-python",
   "name": "python",
   "nbconvert_exporter": "python",
   "pygments_lexer": "ipython3",
   "version": "3.10.18"
  }
 },
 "nbformat": 4,
 "nbformat_minor": 5
}
