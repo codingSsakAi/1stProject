{
 "cells": [
  {
   "cell_type": "code",
   "execution_count": null,
   "id": "d3d3b954",
   "metadata": {},
   "outputs": [],
   "source": [
    "\n",
    "import numpy as np\n",
    "import pandas as pd\n",
    "from sklearn.preprocessing import MinMaxScaler\n",
    "from sklearn.metrics import mean_squared_error\n",
    "from tensorflow.keras.models import Sequential\n",
    "from tensorflow.keras.layers import LSTM, Dense\n"
   ]
  },
  {
   "cell_type": "code",
   "execution_count": null,
   "id": "118aa687",
   "metadata": {},
   "outputs": [],
   "source": [
    "\n",
    "file_path = '목적별 국적별 입국_250708124220.csv'\n",
    "df = pd.read_csv(file_path, header=0)\n",
    "df = df.drop(index=0).reset_index(drop=True)\n",
    "\n",
    "cols = df.columns.tolist()\n",
    "value_cols = [col for col in cols if ('년' in col and '월' in col and 'Unnamed' not in col)]\n",
    "\n",
    "long_df = pd.melt(df, id_vars=['국적', '목적'], value_vars=value_cols,\n",
    "                  var_name='연월', value_name='입국자수')\n",
    "long_df['연월'] = long_df['연월'].str.replace('년', '-').str.replace('월', '')\n",
    "long_df['입국자수'] = long_df['입국자수'].astype(str).str.replace(',', '')\n",
    "long_df['입국자수'] = pd.to_numeric(long_df['입국자수'], errors='coerce')\n",
    "long_df = long_df[~long_df['목적'].str.strip().isin(['소 계', '소계', '계', '총계'])]\n",
    "long_df['연월'] = pd.to_datetime(long_df['연월'], format='%Y-%m')\n",
    "long_df = long_df.dropna()\n"
   ]
  },
  {
   "cell_type": "code",
   "execution_count": null,
   "id": "3548073c",
   "metadata": {},
   "outputs": [],
   "source": [
    "\n",
    "lstm_df = long_df.groupby(['연월']).agg({'입국자수': 'sum'}).reset_index().sort_values('연월')\n",
    "\n",
    "scaler = MinMaxScaler()\n",
    "scaled_values = scaler.fit_transform(lstm_df[['입국자수']])\n",
    "\n",
    "def create_sequence(data, seq_length):\n",
    "    X, y = [], []\n",
    "    for i in range(len(data) - seq_length):\n",
    "        X.append(data[i:i+seq_length])\n",
    "        y.append(data[i+seq_length])\n",
    "    return np.array(X), np.array(y)\n",
    "\n",
    "seq_length = 12\n",
    "X, y = create_sequence(scaled_values, seq_length)\n",
    "\n",
    "split = int(len(X) * 0.8)\n",
    "X_train, X_test = X[:split], X[split:]\n",
    "y_train, y_test = y[:split], y[split:]\n"
   ]
  },
  {
   "cell_type": "code",
   "execution_count": null,
   "id": "494b6d90",
   "metadata": {},
   "outputs": [],
   "source": [
    "\n",
    "model = Sequential()\n",
    "model.add(LSTM(50, activation='relu', input_shape=(seq_length, 1)))\n",
    "model.add(Dense(1))\n",
    "model.compile(optimizer='adam', loss='mse')\n",
    "\n",
    "model.fit(X_train, y_train, epochs=50, batch_size=8, validation_data=(X_test, y_test))\n",
    "\n",
    "y_pred = model.predict(X_test)\n",
    "\n",
    "y_test_inv = scaler.inverse_transform(y_test)\n",
    "y_pred_inv = scaler.inverse_transform(y_pred)\n",
    "\n",
    "rmse = mean_squared_error(y_test_inv, y_pred_inv, squared=False)\n",
    "print(f'LSTM RMSE: {rmse:.2f}')\n"
   ]
  }
 ],
 "metadata": {},
 "nbformat": 4,
 "nbformat_minor": 5
}
