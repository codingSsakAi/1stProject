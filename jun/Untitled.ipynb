{
 "cells": [
  {
   "cell_type": "code",
   "execution_count": 1,
   "id": "93067ceb",
   "metadata": {},
   "outputs": [
    {
     "data": {
      "text/html": [
       "\n",
       "<style>\n",
       "div.container{width:95% !important;}\n",
       "div.cell.code_cell.rendered{width:100%;}\n",
       "div.CodeMirror {font-family:Consolas; font-size:15pt;}\n",
       "div.output {font-size:15pt; font-weight:bold;}\n",
       "div.input {font-family:Consolas; font-size:15pt;}\n",
       "div.prompt {min-width:70px;}\n",
       "div#toc-wrapper{padding-top:120px;}\n",
       "div.text_cell_render ul li{font-size:12pt;padding:5px;}\n",
       "table.dataframe{font-size:15px;}\n",
       "</style>\n"
      ],
      "text/plain": [
       "<IPython.core.display.HTML object>"
      ]
     },
     "metadata": {},
     "output_type": "display_data"
    }
   ],
   "source": [
    "from IPython.display import display, HTML\n",
    "display(HTML(\"\"\"\n",
    "<style>\n",
    "div.container{width:95% !important;}\n",
    "div.cell.code_cell.rendered{width:100%;}\n",
    "div.CodeMirror {font-family:Consolas; font-size:15pt;}\n",
    "div.output {font-size:15pt; font-weight:bold;}\n",
    "div.input {font-family:Consolas; font-size:15pt;}\n",
    "div.prompt {min-width:70px;}\n",
    "div#toc-wrapper{padding-top:120px;}\n",
    "div.text_cell_render ul li{font-size:12pt;padding:5px;}\n",
    "table.dataframe{font-size:15px;}\n",
    "</style>\n",
    "\"\"\"))"
   ]
  },
  {
   "cell_type": "code",
   "execution_count": 3,
   "id": "15fb9f70",
   "metadata": {},
   "outputs": [],
   "source": [
    "import pandas as pd\n",
    "\n",
    "def explore_data(file_path):\n",
    "    # Load the preprocessed data\n",
    "    df = pd.read_csv(file_path, encoding='utf-8-sig')\n",
    "\n",
    "    # Convert 'YearMonth' to datetime\n",
    "    df['YearMonth'] = pd.to_datetime(df['YearMonth'])\n",
    "\n",
    "    # --- Summary Statistics ---\n",
    "\n",
    "    # 1. Total visitors per year\n",
    "    df['Year'] = df['YearMonth'].dt.year\n",
    "    yearly_visitors = df.groupby('Year')['Headcount'].sum()\n",
    "\n",
    "    # 2. Top 10 nationalities by total visitors\n",
    "    top_10_nationalities = df.groupby('국적')['Headcount'].sum().nlargest(10)\n",
    "\n",
    "    # 3. Total visitors by purpose\n",
    "    purpose_visitors = df.groupby('목적')['Headcount'].sum()\n",
    "\n",
    "    # --- Print Results ---\n",
    "    with open(r'C:\\Users\\Admin\\data\\summary_statistics.txt', 'w', encoding='utf-8') as f:\n",
    "        f.write(yearly_visitors.to_string())\n",
    "        f.write(\"\\n\\n--- Top 10 Nationalities ---\\n\")\n",
    "        f.write(top_10_nationalities.to_string())\n",
    "        f.write(\"\\n\\n--- Visitors by Purpose ---\\n\")\n",
    "        f.write(purpose_visitors.to_string())\n",
    "\n",
    "if __name__ == '__main__':\n",
    "    explore_data(r'C:\\Users\\Admin\\data\\preprocessed_entrants.csv')"
   ]
  },
  {
   "cell_type": "code",
   "execution_count": 4,
   "id": "2f70e54c",
   "metadata": {},
   "outputs": [
    {
     "name": "stdout",
     "output_type": "stream",
     "text": [
      "Visualization complete. Plots saved to C:\\Users\\Admin\\data\n"
     ]
    }
   ],
   "source": [
    "import pandas as pd\n",
    "import matplotlib.pyplot as plt\n",
    "import seaborn as sns\n",
    "\n",
    "def visualize_data(file_path):\n",
    "    df = pd.read_csv(file_path, encoding='utf-8-sig')\n",
    "    df['YearMonth'] = pd.to_datetime(df['YearMonth'])\n",
    "\n",
    "    # Set Korean font for matplotlib\n",
    "    plt.rcParams['font.family'] = 'Malgun Gothic' # For Windows\n",
    "    plt.rcParams['axes.unicode_minus'] = False\n",
    "\n",
    "    # 1. Total Monthly Visitors Trend\n",
    "    monthly_total = df.groupby('YearMonth')['Headcount'].sum().reset_index()\n",
    "    plt.figure(figsize=(12, 6))\n",
    "    sns.lineplot(data=monthly_total, x='YearMonth', y='Headcount')\n",
    "    plt.title('월별 총 해외 여행객 유입량 추이')\n",
    "    plt.xlabel('연월')\n",
    "    plt.ylabel('입국자 수')\n",
    "    plt.grid(True)\n",
    "    plt.tight_layout()\n",
    "    plt.savefig(r'C:\\Users\\Admin\\data\\monthly_total_visitors.png')\n",
    "    plt.close()\n",
    "\n",
    "    # 2. Top 5 Nationalities Trend\n",
    "    # Get top 5 nationalities excluding '전체'\n",
    "    top_5_nationalities = df[df['국적'] != '전 체'].groupby('국적')['Headcount'].sum().nlargest(5).index\n",
    "    df_top_5 = df[df['국적'].isin(top_5_nationalities)]\n",
    "\n",
    "    monthly_nationality_total = df_top_5.groupby(['YearMonth', '국적'])['Headcount'].sum().unstack().fillna(0).reset_index()\n",
    "    plt.figure(figsize=(12, 6))\n",
    "    sns.lineplot(data=monthly_nationality_total.melt(id_vars='YearMonth', var_name='국적', value_name='Headcount'), \n",
    "                 x='YearMonth', y='Headcount', hue='국적')\n",
    "    plt.title('주요 5개 국적별 월별 해외 여행객 유입량 추이')\n",
    "    plt.xlabel('연월')\n",
    "    plt.ylabel('입국자 수')\n",
    "    plt.grid(True)\n",
    "    plt.tight_layout()\n",
    "    plt.savefig(r'C:\\Users\\Admin\\data\\top_5_nationalities_trend.png')\n",
    "    plt.close()\n",
    "\n",
    "    # 3. Visitors by Purpose Trend (excluding '전체' and empty purpose)\n",
    "    purpose_df = df[~df['목적'].isin(['전 체', ''])]\n",
    "    monthly_purpose_total = purpose_df.groupby(['YearMonth', '목적'])['Headcount'].sum().unstack().fillna(0).reset_index()\n",
    "    plt.figure(figsize=(12, 6))\n",
    "    sns.lineplot(data=monthly_purpose_total.melt(id_vars='YearMonth', var_name='목적', value_name='Headcount'), \n",
    "                 x='YearMonth', y='Headcount', hue='목적')\n",
    "    plt.title('목적별 월별 해외 여행객 유입량 추이')\n",
    "    plt.xlabel('연월')\n",
    "    plt.ylabel('입국자 수')\n",
    "    plt.grid(True)\n",
    "    plt.tight_layout()\n",
    "    plt.savefig(r'C:\\Users\\Admin\\data\\purpose_trend.png')\n",
    "    plt.close()\n",
    "\n",
    "    print(r\"Visualization complete. Plots saved to C:\\Users\\Admin\\data\")\n",
    "\n",
    "if __name__ == '__main__':\n",
    "    visualize_data(r'C:\\Users\\Admin\\data\\preprocessed_entrants.csv')"
   ]
  },
  {
   "cell_type": "code",
   "execution_count": null,
   "id": "304275be",
   "metadata": {},
   "outputs": [],
   "source": []
  }
 ],
 "metadata": {
  "kernelspec": {
   "display_name": "Python (myenv)",
   "language": "python",
   "name": "myenv"
  },
  "language_info": {
   "codemirror_mode": {
    "name": "ipython",
    "version": 3
   },
   "file_extension": ".py",
   "mimetype": "text/x-python",
   "name": "python",
   "nbconvert_exporter": "python",
   "pygments_lexer": "ipython3",
   "version": "3.10.18"
  },
  "toc": {
   "base_numbering": 1,
   "nav_menu": {},
   "number_sections": false,
   "sideBar": true,
   "skip_h1_title": false,
   "title_cell": "Table of Contents",
   "title_sidebar": "Contents",
   "toc_cell": false,
   "toc_position": {},
   "toc_section_display": true,
   "toc_window_display": false
  }
 },
 "nbformat": 4,
 "nbformat_minor": 5
}
