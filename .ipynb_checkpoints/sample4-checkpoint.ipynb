{
 "cells": [
  {
   "cell_type": "code",
   "execution_count": 1,
   "id": "dd6a583f",
   "metadata": {},
   "outputs": [
    {
     "data": {
      "text/html": [
       "\n",
       "<style>\n",
       "div.container{width:90% !important;}\n",
       "div.cell.code_cell.rendered{width:100%;}\n",
       "div.input_prompt{padding:2px;}\n",
       "div.CodeMirror {font-family:Consolas; font-size:10pt;}\n",
       "div.text_cell_render.rendered_html{font-size:10pt;}\n",
       "div.output {font-size:10pt; font-weight:bold;}\n",
       "div.input {font-family:Consolas; font-size:10pt;}\n",
       "div.prompt {min-width:70px;}\n",
       "div#toc-wrapper{padding-top:120px;}\n",
       "div.text_cell_render ul li{font-size:11pt;padding:4px;}\n",
       "table.dataframe{font-size:10px;}\n",
       "</style>\n"
      ],
      "text/plain": [
       "<IPython.core.display.HTML object>"
      ]
     },
     "metadata": {},
     "output_type": "display_data"
    }
   ],
   "source": [
    "from IPython.display import display, HTML\n",
    "display(HTML(\"\"\"\n",
    "<style>\n",
    "div.container{width:90% !important;}\n",
    "div.cell.code_cell.rendered{width:100%;}\n",
    "div.input_prompt{padding:2px;}\n",
    "div.CodeMirror {font-family:Consolas; font-size:10pt;}\n",
    "div.text_cell_render.rendered_html{font-size:10pt;}\n",
    "div.output {font-size:10pt; font-weight:bold;}\n",
    "div.input {font-family:Consolas; font-size:10pt;}\n",
    "div.prompt {min-width:70px;}\n",
    "div#toc-wrapper{padding-top:120px;}\n",
    "div.text_cell_render ul li{font-size:11pt;padding:4px;}\n",
    "table.dataframe{font-size:10px;}\n",
    "</style>\n",
    "\"\"\"))"
   ]
  },
  {
   "cell_type": "code",
   "execution_count": 2,
   "id": "6787dc82",
   "metadata": {},
   "outputs": [
    {
     "ename": "ModuleNotFoundError",
     "evalue": "No module named 'tensorflow'",
     "output_type": "error",
     "traceback": [
      "\u001b[1;31m---------------------------------------------------------------------------\u001b[0m",
      "\u001b[1;31mModuleNotFoundError\u001b[0m                       Traceback (most recent call last)",
      "Cell \u001b[1;32mIn[2], line 6\u001b[0m\n\u001b[0;32m      4\u001b[0m \u001b[38;5;28;01mimport\u001b[39;00m \u001b[38;5;21;01mnumpy\u001b[39;00m \u001b[38;5;28;01mas\u001b[39;00m \u001b[38;5;21;01mnp\u001b[39;00m\n\u001b[0;32m      5\u001b[0m \u001b[38;5;28;01mfrom\u001b[39;00m \u001b[38;5;21;01msklearn\u001b[39;00m\u001b[38;5;21;01m.\u001b[39;00m\u001b[38;5;21;01mpreprocessing\u001b[39;00m \u001b[38;5;28;01mimport\u001b[39;00m MinMaxScaler\n\u001b[1;32m----> 6\u001b[0m \u001b[38;5;28;01mfrom\u001b[39;00m \u001b[38;5;21;01mtensorflow\u001b[39;00m\u001b[38;5;21;01m.\u001b[39;00m\u001b[38;5;21;01mkeras\u001b[39;00m\u001b[38;5;21;01m.\u001b[39;00m\u001b[38;5;21;01mmodels\u001b[39;00m \u001b[38;5;28;01mimport\u001b[39;00m Sequential\n\u001b[0;32m      7\u001b[0m \u001b[38;5;28;01mfrom\u001b[39;00m \u001b[38;5;21;01mtensorflow\u001b[39;00m\u001b[38;5;21;01m.\u001b[39;00m\u001b[38;5;21;01mkeras\u001b[39;00m\u001b[38;5;21;01m.\u001b[39;00m\u001b[38;5;21;01mlayers\u001b[39;00m \u001b[38;5;28;01mimport\u001b[39;00m LSTM, Dense\n\u001b[0;32m      9\u001b[0m \u001b[38;5;66;03m# 1️⃣ CSV 로드\u001b[39;00m\n",
      "\u001b[1;31mModuleNotFoundError\u001b[0m: No module named 'tensorflow'"
     ]
    }
   ],
   "source": [
    "\n",
    "# ✅ LSTM 예측 파이프라인 - 상세 주석 포함\n",
    "\n",
    "import pandas as pd\n",
    "import numpy as np\n",
    "from sklearn.preprocessing import MinMaxScaler\n",
    "from tensorflow.keras.models import Sequential\n",
    "from tensorflow.keras.layers import LSTM, Dense\n",
    "\n",
    "# 1️⃣ CSV 로드\n",
    "df = pd.read_csv('목적별_국적별_결측치.csv')\n",
    "\n",
    "# 2️⃣ 결측치 처리 - NaN은 시계열 예측에서 치명적이다.\n",
    "# 기본적으로 직전값으로 채움 (필요시 평균/중위값 등 다른 방법 사용 가능)\n",
    "df = df.fillna(method='ffill')\n",
    "\n",
    "# 3️⃣ 시계열 정렬 - 국가/목적별로 연월순 정렬\n",
    "df = df.sort_values(['country_code', 'purpose_code', 'year', 'month'])\n",
    "\n",
    "# 4️⃣ 사용할 Feature 정의\n",
    "features = ['visitors_num', 'lag_1', 'rolling_mean_3', 'rolling_mean_6',\n",
    "            'rolling_mean_12', 'is_peak', 'is_holiday']\n",
    "\n",
    "# 5️⃣ 스케일링 - LSTM은 연속값 스케일이 커지면 학습이 불안정해진다.\n",
    "scaler = MinMaxScaler()\n",
    "scaled = scaler.fit_transform(df[features])\n",
    "\n",
    "# 6️⃣ Sliding Window 함수 정의\n",
    "# 과거 n_steps개월 데이터를 입력으로, 다음 1개월을 예측한다.\n",
    "def create_sequences(data, n_steps):\n",
    "    X, y = [], []\n",
    "    for i in range(len(data) - n_steps):\n",
    "        X.append(data[i:i+n_steps])\n",
    "        y.append(data[i+n_steps, 0])  # visitors_num이 첫 컬럼\n",
    "    return np.array(X), np.array(y)\n",
    "\n",
    "# 7️⃣ 윈도우 크기 설정 (예: 12개월)\n",
    "n_steps = 12\n",
    "X, y = create_sequences(scaled, n_steps)\n",
    "\n",
    "print(f'X Shape: {X.shape} (samples, timesteps, features)')\n",
    "print(f'y Shape: {y.shape}')\n",
    "\n",
    "# 8️⃣ LSTM 모델 구성\n",
    "# LSTM은 시계열 패턴을 학습하기 위해 input_shape에 (타임스텝, 변수개수)가 반드시 필요하다.\n",
    "n_features = X.shape[2]\n",
    "\n",
    "model = Sequential()\n",
    "model.add(LSTM(64, activation='relu', input_shape=(n_steps, n_features)))\n",
    "model.add(Dense(1))  # 출력은 다음 달 입국자수 하나\n",
    "model.compile(optimizer='adam', loss='mse')\n",
    "\n",
    "# 9️⃣ 학습\n",
    "model.fit(X, y, epochs=50, batch_size=32)\n",
    "\n",
    "# 10️⃣ 예측값 복원\n",
    "# 스케일링된 값을 다시 원본 단위로 되돌리기 위해 inverse_transform 사용\n",
    "# visitors_num 하나만 복원할 것이므로 dummy zero 배열로 shape 맞춘다.\n",
    "y_pred = model.predict(X)\n",
    "y_pred_inv = scaler.inverse_transform(np.hstack([y_pred, np.zeros((len(y_pred), len(features)-1))]))[:,0]\n",
    "\n",
    "print(f'예측 샘플: {y_pred_inv}')\n",
    "\n",
    "# 11️⃣ 모델 저장 (.h5)\n",
    "model.save('foreign_visitors_lstm_model.h5')\n",
    "print('✅ LSTM 모델 저장 완료')\n"
   ]
  },
  {
   "cell_type": "code",
   "execution_count": null,
   "id": "1283cb21",
   "metadata": {},
   "outputs": [],
   "source": []
  }
 ],
 "metadata": {
  "kernelspec": {
   "display_name": "Python 3 (ipykernel)",
   "language": "python",
   "name": "python3"
  },
  "language_info": {
   "codemirror_mode": {
    "name": "ipython",
    "version": 3
   },
   "file_extension": ".py",
   "mimetype": "text/x-python",
   "name": "python",
   "nbconvert_exporter": "python",
   "pygments_lexer": "ipython3",
   "version": "3.10.9"
  },
  "toc": {
   "base_numbering": 1,
   "nav_menu": {},
   "number_sections": true,
   "sideBar": true,
   "skip_h1_title": false,
   "title_cell": "Table of Contents",
   "title_sidebar": "Contents",
   "toc_cell": false,
   "toc_position": {},
   "toc_section_display": true,
   "toc_window_display": false
  }
 },
 "nbformat": 4,
 "nbformat_minor": 5
}
