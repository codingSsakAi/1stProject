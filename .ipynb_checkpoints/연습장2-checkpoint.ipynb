{
 "cells": [
  {
   "cell_type": "code",
   "execution_count": 1,
   "id": "de56fba5",
   "metadata": {},
   "outputs": [
    {
     "data": {
      "text/html": [
       "\n",
       "<style>\n",
       "div.container{width:90% !important;}\n",
       "div.cell.code_cell.rendered{width:100%;}\n",
       "div.input_prompt{padding:2px;}\n",
       "div.CodeMirror {font-family:Consolas; font-size:10pt;}\n",
       "div.text_cell_render.rendered_html{font-size:10pt;}\n",
       "div.output {font-size:10pt; font-weight:bold;}\n",
       "div.input {font-family:Consolas; font-size:10pt;}\n",
       "div.prompt {min-width:70px;}\n",
       "div#toc-wrapper{padding-top:120px;}\n",
       "div.text_cell_render ul li{font-size:11pt;padding:4px;}\n",
       "table.dataframe{font-size:10px;}\n",
       "</style>\n"
      ],
      "text/plain": [
       "<IPython.core.display.HTML object>"
      ]
     },
     "metadata": {},
     "output_type": "display_data"
    }
   ],
   "source": [
    "from IPython.display import display, HTML\n",
    "display(HTML(\"\"\"\n",
    "<style>\n",
    "div.container{width:90% !important;}\n",
    "div.cell.code_cell.rendered{width:100%;}\n",
    "div.input_prompt{padding:2px;}\n",
    "div.CodeMirror {font-family:Consolas; font-size:10pt;}\n",
    "div.text_cell_render.rendered_html{font-size:10pt;}\n",
    "div.output {font-size:10pt; font-weight:bold;}\n",
    "div.input {font-family:Consolas; font-size:10pt;}\n",
    "div.prompt {min-width:70px;}\n",
    "div#toc-wrapper{padding-top:120px;}\n",
    "div.text_cell_render ul li{font-size:11pt;padding:4px;}\n",
    "table.dataframe{font-size:10px;}\n",
    "</style>\n",
    "\"\"\"))"
   ]
  },
  {
   "cell_type": "code",
   "execution_count": 3,
   "id": "f8300a7c",
   "metadata": {},
   "outputs": [],
   "source": [
    "import pandas as pd\n",
    "import statsmodels.api as sm  # 회귀모델\n",
    "import joblib # pkl이나 joblib로 모델 저장, load\n",
    "import tkinter as tk "
   ]
  },
  {
   "cell_type": "code",
   "execution_count": 6,
   "id": "55b07f57",
   "metadata": {},
   "outputs": [
    {
     "data": {
      "text/plain": [
       "country_kr        0\n",
       "purpose_kr        0\n",
       "ym                0\n",
       "year              0\n",
       "month             0\n",
       "visitors          0\n",
       "country_en        0\n",
       "purpose_en        0\n",
       "country_code      0\n",
       "purpose_code      0\n",
       "is_peak           0\n",
       "lag_1             0\n",
       "rolling_mean_3    0\n",
       "dtype: int64"
      ]
     },
     "execution_count": 6,
     "metadata": {},
     "output_type": "execute_result"
    }
   ],
   "source": [
    "df = pd.read_csv('목적별_국적별_결측치.csv', comment='#', encoding='utf-8')\n",
    "df.isna().sum()"
   ]
  },
  {
   "cell_type": "code",
   "execution_count": null,
   "id": "678cce91",
   "metadata": {},
   "outputs": [],
   "source": [
    "\n",
    "# ✅ LSTM 예측 결과 시각화 (Feature 4개 버전)\n",
    "\n",
    "import pandas as pd\n",
    "import numpy as np\n",
    "from sklearn.preprocessing import MinMaxScaler\n",
    "import matplotlib.pyplot as plt\n",
    "from tensorflow.keras.models import load_model\n",
    "import os\n",
    "\n",
    "# 1️⃣ 경로\n",
    "csv_path = '../data/목적별_국적별_결측치.csv'\n",
    "model_path = '../model/foreign_visitors_lstm_model.h5'\n",
    "\n",
    "# 2️⃣ 파일 체크\n",
    "assert os.path.exists(csv_path), f\"CSV 파일 없음: {csv_path}\"\n",
    "assert os.path.exists(model_path), f\"모델 없음: {model_path}\"\n",
    "\n",
    "# 3️⃣ 데이터 로드\n",
    "df = pd.read_csv(csv_path)\n",
    "df = df.fillna(method='ffill')\n",
    "df = df.sort_values(['country_code', 'purpose_code', 'year', 'month'])\n",
    "\n",
    "# ✅ Feature 4개만 선택\n",
    "features = ['visitors_num', 'lag_1', 'rolling_mean_3', 'is_peak']\n",
    "\n",
    "scaler = MinMaxScaler()\n",
    "scaled = scaler.fit_transform(df[features])\n",
    "\n",
    "# 4️⃣ Sliding Window\n",
    "def create_sequences(data, n_steps):\n",
    "    X, y = [], []\n",
    "    for i in range(len(data) - n_steps):\n",
    "        X.append(data[i:i+n_steps])\n",
    "        y.append(data[i+n_steps, 0])\n",
    "    return np.array(X), np.array(y)\n",
    "\n",
    "n_steps = 12\n",
    "X, y = create_sequences(scaled, n_steps)\n",
    "\n",
    "# 5️⃣ 모델\n",
    "model = load_model(model_path)\n",
    "\n",
    "# 6️⃣ 예측\n",
    "y_pred_scaled = model.predict(X)\n",
    "\n",
    "# 7️⃣ 복원\n",
    "y_pred_full = np.hstack([y_pred_scaled, np.zeros((len(y_pred_scaled), len(features)-1))])\n",
    "y_pred_inv = scaler.inverse_transform(y_pred_full)[:,0]\n",
    "\n",
    "# 8️⃣ 실제값 복원\n",
    "y_true_full = np.hstack([y.reshape(-1,1), np.zeros((len(y), len(features)-1))])\n",
    "y_true_inv = scaler.inverse_transform(y_true_full)[:,0]\n",
    "\n",
    "# 9️⃣ 예측 vs 실제 그래프\n",
    "plt.figure(figsize=(14,7))\n",
    "plt.plot(y_true_inv[:500], label='실제값')\n",
    "plt.plot(y_pred_inv[:500], label='예측값', linestyle='--')\n",
    "plt.title('입국자수 예측 vs 실제 (샘플 500개) - Feature 4개')\n",
    "plt.xlabel('샘플 Index')\n",
    "plt.ylabel('입국자수')\n",
    "plt.legend()\n",
    "plt.show()\n",
    "\n",
    "# 10️⃣ 잔차 그래프\n",
    "residual = y_true_inv - y_pred_inv\n",
    "\n",
    "plt.figure(figsize=(12,5))\n",
    "plt.plot(residual[:500])\n",
    "plt.title('예측 오차(잔차) - Feature 4개')\n",
    "plt.xlabel('샘플 Index')\n",
    "plt.ylabel('차이(실제-예측)')\n",
    "plt.show()\n"
   ]
  },
  {
   "cell_type": "code",
   "execution_count": null,
   "id": "9c24768f",
   "metadata": {},
   "outputs": [],
   "source": []
  },
  {
   "cell_type": "code",
   "execution_count": null,
   "id": "d9a28fcd",
   "metadata": {},
   "outputs": [],
   "source": []
  },
  {
   "cell_type": "code",
   "execution_count": null,
   "id": "29cecd5b",
   "metadata": {},
   "outputs": [],
   "source": []
  },
  {
   "cell_type": "code",
   "execution_count": null,
   "id": "c9ac0293",
   "metadata": {},
   "outputs": [],
   "source": []
  },
  {
   "cell_type": "code",
   "execution_count": null,
   "id": "f0d52111",
   "metadata": {},
   "outputs": [],
   "source": []
  },
  {
   "cell_type": "code",
   "execution_count": null,
   "id": "f72f86de",
   "metadata": {},
   "outputs": [],
   "source": []
  },
  {
   "cell_type": "code",
   "execution_count": null,
   "id": "fcc63131",
   "metadata": {},
   "outputs": [],
   "source": []
  },
  {
   "cell_type": "code",
   "execution_count": null,
   "id": "ef66fccf",
   "metadata": {},
   "outputs": [],
   "source": []
  },
  {
   "cell_type": "code",
   "execution_count": null,
   "id": "8701cce0",
   "metadata": {},
   "outputs": [],
   "source": []
  },
  {
   "cell_type": "code",
   "execution_count": null,
   "id": "7c87d1cd",
   "metadata": {},
   "outputs": [],
   "source": []
  },
  {
   "cell_type": "code",
   "execution_count": null,
   "id": "82f6bd90",
   "metadata": {},
   "outputs": [],
   "source": []
  },
  {
   "cell_type": "code",
   "execution_count": null,
   "id": "4cc299a5",
   "metadata": {},
   "outputs": [],
   "source": []
  },
  {
   "cell_type": "code",
   "execution_count": null,
   "id": "7d5876ca",
   "metadata": {},
   "outputs": [],
   "source": []
  },
  {
   "cell_type": "code",
   "execution_count": null,
   "id": "3133f6df",
   "metadata": {},
   "outputs": [],
   "source": []
  },
  {
   "cell_type": "code",
   "execution_count": null,
   "id": "f0a83e4f",
   "metadata": {},
   "outputs": [],
   "source": []
  },
  {
   "cell_type": "code",
   "execution_count": null,
   "id": "80b99d8b",
   "metadata": {},
   "outputs": [],
   "source": []
  },
  {
   "cell_type": "code",
   "execution_count": null,
   "id": "849a110f",
   "metadata": {},
   "outputs": [],
   "source": []
  },
  {
   "cell_type": "code",
   "execution_count": null,
   "id": "aac20b75",
   "metadata": {},
   "outputs": [],
   "source": []
  },
  {
   "cell_type": "code",
   "execution_count": null,
   "id": "ab192320",
   "metadata": {},
   "outputs": [],
   "source": []
  },
  {
   "cell_type": "code",
   "execution_count": null,
   "id": "6abfaee2",
   "metadata": {},
   "outputs": [],
   "source": []
  },
  {
   "cell_type": "code",
   "execution_count": null,
   "id": "2e68befa",
   "metadata": {},
   "outputs": [],
   "source": []
  },
  {
   "cell_type": "code",
   "execution_count": null,
   "id": "a79ff37f",
   "metadata": {},
   "outputs": [],
   "source": []
  },
  {
   "cell_type": "code",
   "execution_count": null,
   "id": "796a970a",
   "metadata": {},
   "outputs": [],
   "source": []
  },
  {
   "cell_type": "code",
   "execution_count": null,
   "id": "3eac954e",
   "metadata": {},
   "outputs": [],
   "source": []
  }
 ],
 "metadata": {
  "kernelspec": {
   "display_name": "ml-dl-nlp",
   "language": "python",
   "name": "ml-dl-nlp"
  },
  "language_info": {
   "codemirror_mode": {
    "name": "ipython",
    "version": 3
   },
   "file_extension": ".py",
   "mimetype": "text/x-python",
   "name": "python",
   "nbconvert_exporter": "python",
   "pygments_lexer": "ipython3",
   "version": "3.10.18"
  },
  "toc": {
   "base_numbering": 1,
   "nav_menu": {},
   "number_sections": true,
   "sideBar": true,
   "skip_h1_title": false,
   "title_cell": "Table of Contents",
   "title_sidebar": "Contents",
   "toc_cell": false,
   "toc_position": {},
   "toc_section_display": true,
   "toc_window_display": false
  }
 },
 "nbformat": 4,
 "nbformat_minor": 5
}
