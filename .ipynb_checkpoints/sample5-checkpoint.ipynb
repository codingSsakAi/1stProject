{
 "cells": [
  {
   "cell_type": "code",
   "execution_count": null,
   "id": "baf83b44",
   "metadata": {},
   "outputs": [],
   "source": [
    "\n",
    "# ✅ LSTM 학습 파이프라인 (Feature 4개 버전)\n",
    "\n",
    "import pandas as pd\n",
    "import numpy as np\n",
    "from sklearn.preprocessing import MinMaxScaler\n",
    "from tensorflow.keras.models import Sequential\n",
    "from tensorflow.keras.layers import LSTM, Dense\n",
    "\n",
    "# 1️⃣ 데이터 로드\n",
    "df = pd.read_csv('../data/목적별_국적별_결측치.csv')\n",
    "df = df.fillna(method='ffill')\n",
    "df = df.sort_values(['country_code', 'purpose_code', 'year', 'month'])\n",
    "\n",
    "# ✅ Feature 4개만 선택\n",
    "features = ['visitors_num', 'lag_1', 'rolling_mean_3', 'is_peak']\n",
    "\n",
    "scaler = MinMaxScaler()\n",
    "scaled = scaler.fit_transform(df[features])\n",
    "\n",
    "# 2️⃣ Sliding Window\n",
    "def create_sequences(data, n_steps):\n",
    "    X, y = [], []\n",
    "    for i in range(len(data) - n_steps):\n",
    "        X.append(data[i:i+n_steps])\n",
    "        y.append(data[i+n_steps, 0])\n",
    "    return np.array(X), np.array(y)\n",
    "\n",
    "n_steps = 12\n",
    "X, y = create_sequences(scaled, n_steps)\n",
    "\n",
    "print(f\"입력 Shape: {X.shape}\")\n",
    "\n",
    "# 3️⃣ LSTM 모델 (Feature 4개 버전)\n",
    "n_features = X.shape[2]\n",
    "\n",
    "model = Sequential()\n",
    "model.add(LSTM(64, activation='relu', input_shape=(n_steps, n_features)))\n",
    "model.add(Dense(1))\n",
    "model.compile(optimizer='adam', loss='mse')\n",
    "\n",
    "# 4️⃣ 학습\n",
    "model.fit(X, y, epochs=50, batch_size=32)\n",
    "\n",
    "# 5️⃣ 모델 저장 (.h5)\n",
    "model.save('../model/foreign_visitors_lstm_model_4features.h5')\n",
    "print('✅ Feature 4개 버전 LSTM 모델 저장 완료')\n"
   ]
  }
 ],
 "metadata": {
  "kernelspec": {
   "display_name": "Python 3 (ipykernel)",
   "language": "python",
   "name": "python3"
  },
  "language_info": {
   "codemirror_mode": {
    "name": "ipython",
    "version": 3
   },
   "file_extension": ".py",
   "mimetype": "text/x-python",
   "name": "python",
   "nbconvert_exporter": "python",
   "pygments_lexer": "ipython3",
   "version": "3.10.9"
  },
  "toc": {
   "base_numbering": 1,
   "nav_menu": {},
   "number_sections": true,
   "sideBar": true,
   "skip_h1_title": false,
   "title_cell": "Table of Contents",
   "title_sidebar": "Contents",
   "toc_cell": false,
   "toc_position": {},
   "toc_section_display": true,
   "toc_window_display": false
  }
 },
 "nbformat": 4,
 "nbformat_minor": 5
}
