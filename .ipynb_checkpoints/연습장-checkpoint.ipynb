{
 "cells": [
  {
   "cell_type": "code",
   "execution_count": 1,
   "id": "093c2a1f",
   "metadata": {},
   "outputs": [
    {
     "data": {
      "text/html": [
       "\n",
       "<style>\n",
       "div.container{width:90% !important;}\n",
       "div.cell.code_cell.rendered{width:100%;}\n",
       "div.input_prompt{padding:2px;}\n",
       "div.CodeMirror {font-family:Consolas; font-size:10pt;}\n",
       "div.text_cell_render.rendered_html{font-size:10pt;}\n",
       "div.output {font-size:10pt; font-weight:bold;}\n",
       "div.input {font-family:Consolas; font-size:10pt;}\n",
       "div.prompt {min-width:70px;}\n",
       "div#toc-wrapper{padding-top:120px;}\n",
       "div.text_cell_render ul li{font-size:11pt;padding:4px;}\n",
       "table.dataframe{font-size:10px;}\n",
       "</style>\n"
      ],
      "text/plain": [
       "<IPython.core.display.HTML object>"
      ]
     },
     "metadata": {},
     "output_type": "display_data"
    }
   ],
   "source": [
    "from IPython.display import display, HTML\n",
    "display(HTML(\"\"\"\n",
    "<style>\n",
    "div.container{width:90% !important;}\n",
    "div.cell.code_cell.rendered{width:100%;}\n",
    "div.input_prompt{padding:2px;}\n",
    "div.CodeMirror {font-family:Consolas; font-size:10pt;}\n",
    "div.text_cell_render.rendered_html{font-size:10pt;}\n",
    "div.output {font-size:10pt; font-weight:bold;}\n",
    "div.input {font-family:Consolas; font-size:10pt;}\n",
    "div.prompt {min-width:70px;}\n",
    "div#toc-wrapper{padding-top:120px;}\n",
    "div.text_cell_render ul li{font-size:11pt;padding:4px;}\n",
    "table.dataframe{font-size:10px;}\n",
    "</style>\n",
    "\"\"\"))"
   ]
  },
  {
   "cell_type": "code",
   "execution_count": 38,
   "id": "5112cf50",
   "metadata": {},
   "outputs": [],
   "source": [
    "import pandas as pd\n",
    "import statsmodels.api as sm  # 회귀모델\n",
    "import joblib # pkl이나 joblib로 모델 저장, load\n",
    "import tkinter as tk "
   ]
  },
  {
   "cell_type": "code",
   "execution_count": 25,
   "id": "a8866c08",
   "metadata": {},
   "outputs": [
    {
     "name": "stdout",
     "output_type": "stream",
     "text": [
      "<class 'pandas.core.frame.DataFrame'>\n",
      "RangeIndex: 24178 entries, 0 to 24177\n",
      "Data columns (total 13 columns):\n",
      " #   Column          Non-Null Count  Dtype  \n",
      "---  ------          --------------  -----  \n",
      " 0   country_kr      24178 non-null  object \n",
      " 1   purpose_kr      24178 non-null  object \n",
      " 2   ym              24178 non-null  object \n",
      " 3   year            24178 non-null  int64  \n",
      " 4   month           24178 non-null  int64  \n",
      " 5   visitors        24178 non-null  int64  \n",
      " 6   country_en      24178 non-null  object \n",
      " 7   purpose_en      24178 non-null  object \n",
      " 8   country_code    24178 non-null  int64  \n",
      " 9   purpose_code    24178 non-null  int64  \n",
      " 10  is_peak         24178 non-null  int64  \n",
      " 11  lag_1           23864 non-null  float64\n",
      " 12  rolling_mean_3  23236 non-null  float64\n",
      "dtypes: float64(2), int64(6), object(5)\n",
      "memory usage: 2.4+ MB\n"
     ]
    }
   ],
   "source": [
    "df = pd.read_csv('목적별_국적별_입국자수.csv', comment='#', encoding='utf-8')\n",
    "df.info()"
   ]
  },
  {
   "cell_type": "code",
   "execution_count": 21,
   "id": "6146cf27",
   "metadata": {},
   "outputs": [
    {
     "data": {
      "text/html": [
       "<div>\n",
       "<style scoped>\n",
       "    .dataframe tbody tr th:only-of-type {\n",
       "        vertical-align: middle;\n",
       "    }\n",
       "\n",
       "    .dataframe tbody tr th {\n",
       "        vertical-align: top;\n",
       "    }\n",
       "\n",
       "    .dataframe thead th {\n",
       "        text-align: right;\n",
       "    }\n",
       "</style>\n",
       "<table border=\"1\" class=\"dataframe\">\n",
       "  <thead>\n",
       "    <tr style=\"text-align: right;\">\n",
       "      <th></th>\n",
       "      <th>country_kr</th>\n",
       "      <th>purpose_kr</th>\n",
       "      <th>ym</th>\n",
       "      <th>year</th>\n",
       "      <th>month</th>\n",
       "      <th>visitors</th>\n",
       "      <th>country_en</th>\n",
       "      <th>purpose_en</th>\n",
       "      <th>country_code</th>\n",
       "      <th>purpose_code</th>\n",
       "      <th>is_peak</th>\n",
       "      <th>lag_1</th>\n",
       "      <th>rolling_mean_3</th>\n",
       "    </tr>\n",
       "  </thead>\n",
       "  <tbody>\n",
       "    <tr>\n",
       "      <th>2773</th>\n",
       "      <td>대  만</td>\n",
       "      <td>공용</td>\n",
       "      <td>2019-02</td>\n",
       "      <td>2019</td>\n",
       "      <td>2</td>\n",
       "      <td>20</td>\n",
       "      <td>Taiwan</td>\n",
       "      <td>Official</td>\n",
       "      <td>53</td>\n",
       "      <td>2</td>\n",
       "      <td>0</td>\n",
       "      <td>22.0</td>\n",
       "      <td>NaN</td>\n",
       "    </tr>\n",
       "  </tbody>\n",
       "</table>\n",
       "</div>"
      ],
      "text/plain": [
       "     country_kr purpose_kr       ym  year  month  visitors country_en  \\\n",
       "2773       대  만         공용  2019-02  2019      2        20     Taiwan   \n",
       "\n",
       "     purpose_en  country_code  purpose_code  is_peak  lag_1  rolling_mean_3  \n",
       "2773   Official            53             2        0   22.0             NaN  "
      ]
     },
     "execution_count": 21,
     "metadata": {},
     "output_type": "execute_result"
    }
   ],
   "source": [
    "df.sample()"
   ]
  },
  {
   "cell_type": "code",
   "execution_count": 35,
   "id": "0803eddd",
   "metadata": {},
   "outputs": [
    {
     "data": {
      "text/plain": [
       "[0, 1, 2, 3, 4, 5]"
      ]
     },
     "execution_count": 35,
     "metadata": {},
     "output_type": "execute_result"
    }
   ],
   "source": [
    "sorted(df['purpose_code'].unique())"
   ]
  },
  {
   "cell_type": "code",
   "execution_count": null,
   "id": "eee620f3",
   "metadata": {},
   "outputs": [],
   "source": []
  },
  {
   "cell_type": "code",
   "execution_count": 26,
   "id": "fe2f3ac8",
   "metadata": {},
   "outputs": [
    {
     "data": {
      "text/plain": [
       "((24178, 3), (24178,))"
      ]
     },
     "execution_count": 26,
     "metadata": {},
     "output_type": "execute_result"
    }
   ],
   "source": [
    "X = df[['purpose_code','country_code','year','month']].copy()\n",
    "X['const'] = 1\n",
    "y = df['visitors']\n",
    "X.shape, y.shape"
   ]
  },
  {
   "cell_type": "code",
   "execution_count": 27,
   "id": "c690825c",
   "metadata": {
    "collapsed": true
   },
   "outputs": [
    {
     "data": {
      "text/html": [
       "<table class=\"simpletable\">\n",
       "<caption>OLS Regression Results</caption>\n",
       "<tr>\n",
       "  <th>Dep. Variable:</th>        <td>visitors</td>     <th>  R-squared:         </th>  <td>   0.000</td>  \n",
       "</tr>\n",
       "<tr>\n",
       "  <th>Model:</th>                   <td>OLS</td>       <th>  Adj. R-squared:    </th>  <td>   0.000</td>  \n",
       "</tr>\n",
       "<tr>\n",
       "  <th>Method:</th>             <td>Least Squares</td>  <th>  F-statistic:       </th>  <td>   3.805</td>  \n",
       "</tr>\n",
       "<tr>\n",
       "  <th>Date:</th>             <td>Wed, 09 Jul 2025</td> <th>  Prob (F-statistic):</th>   <td>0.0223</td>   \n",
       "</tr>\n",
       "<tr>\n",
       "  <th>Time:</th>                 <td>13:06:36</td>     <th>  Log-Likelihood:    </th> <td>-2.9946e+05</td>\n",
       "</tr>\n",
       "<tr>\n",
       "  <th>No. Observations:</th>      <td> 24178</td>      <th>  AIC:               </th>  <td>5.989e+05</td> \n",
       "</tr>\n",
       "<tr>\n",
       "  <th>Df Residuals:</th>          <td> 24175</td>      <th>  BIC:               </th>  <td>5.990e+05</td> \n",
       "</tr>\n",
       "<tr>\n",
       "  <th>Df Model:</th>              <td>     2</td>      <th>                     </th>      <td> </td>     \n",
       "</tr>\n",
       "<tr>\n",
       "  <th>Covariance Type:</th>      <td>nonrobust</td>    <th>                     </th>      <td> </td>     \n",
       "</tr>\n",
       "</table>\n",
       "<table class=\"simpletable\">\n",
       "<tr>\n",
       "    <td></td>       <th>coef</th>     <th>std err</th>      <th>t</th>      <th>P>|t|</th>  <th>[0.025</th>    <th>0.975]</th>  \n",
       "</tr>\n",
       "<tr>\n",
       "  <th>year</th>  <td>  553.8685</td> <td>  201.270</td> <td>    2.752</td> <td> 0.006</td> <td>  159.366</td> <td>  948.370</td>\n",
       "</tr>\n",
       "<tr>\n",
       "  <th>month</th> <td>   54.9579</td> <td>  108.174</td> <td>    0.508</td> <td> 0.611</td> <td> -157.069</td> <td>  266.985</td>\n",
       "</tr>\n",
       "<tr>\n",
       "  <th>const</th> <td>-1.115e+06</td> <td> 4.07e+05</td> <td>   -2.740</td> <td> 0.006</td> <td>-1.91e+06</td> <td>-3.18e+05</td>\n",
       "</tr>\n",
       "</table>\n",
       "<table class=\"simpletable\">\n",
       "<tr>\n",
       "  <th>Omnibus:</th>       <td>54586.379</td> <th>  Durbin-Watson:     </th>   <td>   0.082</td>   \n",
       "</tr>\n",
       "<tr>\n",
       "  <th>Prob(Omnibus):</th>  <td> 0.000</td>   <th>  Jarque-Bera (JB):  </th> <td>277312566.447</td>\n",
       "</tr>\n",
       "<tr>\n",
       "  <th>Skew:</th>           <td>21.757</td>   <th>  Prob(JB):          </th>   <td>    0.00</td>   \n",
       "</tr>\n",
       "<tr>\n",
       "  <th>Kurtosis:</th>       <td>525.855</td>  <th>  Cond. No.          </th>   <td>2.21e+06</td>   \n",
       "</tr>\n",
       "</table><br/><br/>Notes:<br/>[1] Standard Errors assume that the covariance matrix of the errors is correctly specified.<br/>[2] The condition number is large, 2.21e+06. This might indicate that there are<br/>strong multicollinearity or other numerical problems."
      ],
      "text/plain": [
       "<class 'statsmodels.iolib.summary.Summary'>\n",
       "\"\"\"\n",
       "                            OLS Regression Results                            \n",
       "==============================================================================\n",
       "Dep. Variable:               visitors   R-squared:                       0.000\n",
       "Model:                            OLS   Adj. R-squared:                  0.000\n",
       "Method:                 Least Squares   F-statistic:                     3.805\n",
       "Date:                Wed, 09 Jul 2025   Prob (F-statistic):             0.0223\n",
       "Time:                        13:06:36   Log-Likelihood:            -2.9946e+05\n",
       "No. Observations:               24178   AIC:                         5.989e+05\n",
       "Df Residuals:                   24175   BIC:                         5.990e+05\n",
       "Df Model:                           2                                         \n",
       "Covariance Type:            nonrobust                                         \n",
       "==============================================================================\n",
       "                 coef    std err          t      P>|t|      [0.025      0.975]\n",
       "------------------------------------------------------------------------------\n",
       "year         553.8685    201.270      2.752      0.006     159.366     948.370\n",
       "month         54.9579    108.174      0.508      0.611    -157.069     266.985\n",
       "const      -1.115e+06   4.07e+05     -2.740      0.006   -1.91e+06   -3.18e+05\n",
       "==============================================================================\n",
       "Omnibus:                    54586.379   Durbin-Watson:                   0.082\n",
       "Prob(Omnibus):                  0.000   Jarque-Bera (JB):        277312566.447\n",
       "Skew:                          21.757   Prob(JB):                         0.00\n",
       "Kurtosis:                     525.855   Cond. No.                     2.21e+06\n",
       "==============================================================================\n",
       "\n",
       "Notes:\n",
       "[1] Standard Errors assume that the covariance matrix of the errors is correctly specified.\n",
       "[2] The condition number is large, 2.21e+06. This might indicate that there are\n",
       "strong multicollinearity or other numerical problems.\n",
       "\"\"\""
      ]
     },
     "execution_count": 27,
     "metadata": {},
     "output_type": "execute_result"
    }
   ],
   "source": [
    "model = sm.OLS(y, X).fit() # 회귀모델\n",
    "model.summary()"
   ]
  },
  {
   "cell_type": "code",
   "execution_count": 28,
   "id": "25fe81a6",
   "metadata": {},
   "outputs": [
    {
     "data": {
      "text/plain": [
       "['foreign_visitors.joblib']"
      ]
     },
     "execution_count": 28,
     "metadata": {},
     "output_type": "execute_result"
    }
   ],
   "source": [
    "joblib.dump(model, 'foreign_visitors.joblib')"
   ]
  },
  {
   "cell_type": "code",
   "execution_count": 42,
   "id": "e77418b7",
   "metadata": {
    "scrolled": true
   },
   "outputs": [
    {
     "name": "stderr",
     "output_type": "stream",
     "text": [
      "Exception in Tkinter callback\n",
      "Traceback (most recent call last):\n",
      "  File \"C:\\Users\\Admin\\anaconda3\\lib\\tkinter\\__init__.py\", line 1921, in __call__\n",
      "    return self.func(*args)\n",
      "  File \"C:\\Users\\Admin\\AppData\\Local\\Temp\\ipykernel_12224\\697498170.py\", line 3, in on_submit\n",
      "    country = int(country_code.get())\n",
      "NameError: name 'country_code' is not defined\n",
      "Exception in Tkinter callback\n",
      "Traceback (most recent call last):\n",
      "  File \"C:\\Users\\Admin\\anaconda3\\lib\\tkinter\\__init__.py\", line 1921, in __call__\n",
      "    return self.func(*args)\n",
      "  File \"C:\\Users\\Admin\\AppData\\Local\\Temp\\ipykernel_12224\\697498170.py\", line 3, in on_submit\n",
      "    country = int(country_code.get())\n",
      "NameError: name 'country_code' is not defined\n",
      "Exception in Tkinter callback\n",
      "Traceback (most recent call last):\n",
      "  File \"C:\\Users\\Admin\\anaconda3\\lib\\tkinter\\__init__.py\", line 1921, in __call__\n",
      "    return self.func(*args)\n",
      "  File \"C:\\Users\\Admin\\AppData\\Local\\Temp\\ipykernel_12224\\697498170.py\", line 3, in on_submit\n",
      "    country = int(country_code.get())\n",
      "NameError: name 'country_code' is not defined\n"
     ]
    }
   ],
   "source": [
    "import pandas as pd\n",
    "import statsmodels.api as sm  # 회귀모델\n",
    "import joblib # pkl이나 joblib로 모델 저장, load\n",
    "import tkinter as tk \n",
    "\n",
    "def on_submit(event=None):\n",
    "    '입력된 나라코드, 목적코드, 년도, 월을 예측한 결과 출력'\n",
    "    country = int(country_code.get())\n",
    "    purpose = int(purpose_code.get())\n",
    "    year = int(year.get())\n",
    "    month = int(month.get())\n",
    "    model = joblib.load('foreign_visitors.joblib')\n",
    "    result = round(model.predict([country, purpose, year,month, 1])[0])\n",
    "    result_msg = '예상 입국자 수 : {} 명입니다.'.format(format(result,','))\n",
    "    pred_label.configure(text=result_msg)\n",
    "    print(result_msg)\n",
    "\n",
    "    # 예상 금액 출력 후 입력값 지우고 tear_entry에 포커싱\n",
    "    country_code.delete(0, len(year_entry.get())) # 비추\n",
    "    purpose_code.delete(0, tk.END)\n",
    "    year.delete(0, tk.END)\n",
    "    month.delete(0, tk.END)\n",
    "    country_entry.focus_set()\n",
    "    \n",
    "\n",
    "root = tk.Tk()\n",
    "root.geometry('300x250')\n",
    "country_label = tk.Label(root, text='나라의 코드 : 0~63')\n",
    "country_label.pack()\n",
    "country_entry = tk.Entry(root)\n",
    "country_entry.pack(pady=5)  # pady : 위아래 여백\n",
    "\n",
    "purpose_label = tk.Label(root, text='목적 코드 : 0~5')\n",
    "purpose_label.pack()\n",
    "purpose_entry = tk.Entry(root)\n",
    "purpose_entry.pack(pady=5)  # pady : 위아래 여백\n",
    "\n",
    "year_label = tk.Label(root, text='년도')\n",
    "year_label.pack()\n",
    "year_entry = tk.Entry(root)\n",
    "year_entry.pack(pady=5)  # pady : 위아래 여백\n",
    "\n",
    "month_label = tk.Label(root, text='월')\n",
    "month_label.pack()\n",
    "month_entry = tk.Entry(root)\n",
    "month_entry.pack(pady=5)  # pady : 위아래 여백\n",
    "\n",
    "submit_button = tk.Button(root, text='예측', \n",
    "                          command=on_submit,\n",
    "                         )\n",
    "submit_button.pack(pady=15)\n",
    "\n",
    "\n",
    "pred_label = tk.Label(root, text='예측 입국자 수 출력 예정')\n",
    "pred_label.pack(pady=10)\n",
    "\n",
    "country_entry.focus_set()  # GUI창이 포커싱되면 year_entry에 자동 포커싱\n",
    "root.bind('<Return>', on_submit)\n",
    "root.mainloop()"
   ]
  },
  {
   "cell_type": "code",
   "execution_count": 44,
   "id": "0138d3d1",
   "metadata": {},
   "outputs": [
    {
     "name": "stdout",
     "output_type": "stream",
     "text": [
      "✅ 모델 저장 완료\n"
     ]
    }
   ],
   "source": [
    "import pandas as pd\n",
    "import statsmodels.api as sm\n",
    "import joblib\n",
    "\n",
    "# ✅ 예시 데이터 로드 (너가 제공한 CSV 사용)\n",
    "df = pd.read_csv('목적별_국적별_입국자수.csv')\n",
    "\n",
    "# 숫자 전처리 (필요에 따라!)\n",
    "df['visitors_num'] = df['visitors'].astype(str).str.replace(',', '').astype(float)\n",
    "\n",
    "# ✅ 독립변수 & 종속변수\n",
    "X = df[['country_code', 'purpose_code', 'year', 'month', 'is_peak']]\n",
    "X = sm.add_constant(X)  # statsmodels는 const 필요\n",
    "y = df['visitors']\n",
    "\n",
    "# ✅ 회귀모델 훈련\n",
    "model = sm.OLS(y, X).fit()\n",
    "\n",
    "# ✅ 모델 저장\n",
    "joblib.dump(model, 'foreign_visitors.joblib')\n",
    "print('✅ 모델 저장 완료')\n"
   ]
  },
  {
   "cell_type": "code",
   "execution_count": 47,
   "id": "5c296cde",
   "metadata": {},
   "outputs": [
    {
     "name": "stdout",
     "output_type": "stream",
     "text": [
      "예상 입국자 수 : 4,959 명입니다.\n"
     ]
    },
    {
     "ename": "KeyboardInterrupt",
     "evalue": "",
     "output_type": "error",
     "traceback": [
      "\u001b[1;31m---------------------------------------------------------------------------\u001b[0m",
      "\u001b[1;31mKeyboardInterrupt\u001b[0m                         Traceback (most recent call last)",
      "Cell \u001b[1;32mIn[47], line 67\u001b[0m\n\u001b[0;32m     65\u001b[0m country_entry\u001b[38;5;241m.\u001b[39mfocus_set()\n\u001b[0;32m     66\u001b[0m root\u001b[38;5;241m.\u001b[39mbind(\u001b[38;5;124m'\u001b[39m\u001b[38;5;124m<Return>\u001b[39m\u001b[38;5;124m'\u001b[39m, on_submit)\n\u001b[1;32m---> 67\u001b[0m \u001b[43mroot\u001b[49m\u001b[38;5;241;43m.\u001b[39;49m\u001b[43mmainloop\u001b[49m\u001b[43m(\u001b[49m\u001b[43m)\u001b[49m\n",
      "File \u001b[1;32m~\\anaconda3\\lib\\tkinter\\__init__.py:1458\u001b[0m, in \u001b[0;36mMisc.mainloop\u001b[1;34m(self, n)\u001b[0m\n\u001b[0;32m   1456\u001b[0m \u001b[38;5;28;01mdef\u001b[39;00m \u001b[38;5;21mmainloop\u001b[39m(\u001b[38;5;28mself\u001b[39m, n\u001b[38;5;241m=\u001b[39m\u001b[38;5;241m0\u001b[39m):\n\u001b[0;32m   1457\u001b[0m     \u001b[38;5;124;03m\"\"\"Call the mainloop of Tk.\"\"\"\u001b[39;00m\n\u001b[1;32m-> 1458\u001b[0m     \u001b[38;5;28;43mself\u001b[39;49m\u001b[38;5;241;43m.\u001b[39;49m\u001b[43mtk\u001b[49m\u001b[38;5;241;43m.\u001b[39;49m\u001b[43mmainloop\u001b[49m\u001b[43m(\u001b[49m\u001b[43mn\u001b[49m\u001b[43m)\u001b[49m\n",
      "\u001b[1;31mKeyboardInterrupt\u001b[0m: "
     ]
    }
   ],
   "source": [
    "import pandas as pd\n",
    "import statsmodels.api as sm\n",
    "import joblib\n",
    "import tkinter as tk\n",
    "\n",
    "def on_submit(event=None):\n",
    "    # 입력 가져오기\n",
    "    country = int(country_entry.get())\n",
    "    purpose = int(purpose_entry.get())\n",
    "    year_val = int(year_entry.get())\n",
    "    month_val = int(month_entry.get())\n",
    "\n",
    "    # 모델 로드\n",
    "    model = joblib.load('foreign_visitors.joblib')\n",
    "\n",
    "    # ✅ statsmodels는 X구조와 동일한 DataFrame 필요\n",
    "    X_new = pd.DataFrame([{\n",
    "        'const': 1,\n",
    "        'country_code': country,\n",
    "        'purpose_code': purpose,\n",
    "        'year': year_val,\n",
    "        'month': month_val,\n",
    "        'is_peak': 1\n",
    "    }])\n",
    "\n",
    "    # 예측\n",
    "    result = round(model.predict(X_new)[0])\n",
    "    result_msg = f'예상 입국자 수 : {format(result, \",\")} 명입니다.'\n",
    "    pred_label.configure(text=result_msg)\n",
    "    print(result_msg)\n",
    "\n",
    "    # 입력창 리셋\n",
    "    country_entry.delete(0, tk.END)\n",
    "    purpose_entry.delete(0, tk.END)\n",
    "    year_entry.delete(0, tk.END)\n",
    "    month_entry.delete(0, tk.END)\n",
    "    country_entry.focus_set()\n",
    "\n",
    "# ✅ tkinter UI\n",
    "root = tk.Tk()\n",
    "root.geometry('300x300')\n",
    "\n",
    "tk.Label(root, text='나라 코드 :').pack()\n",
    "country_entry = tk.Entry(root)\n",
    "country_entry.pack(pady=5)\n",
    "\n",
    "tk.Label(root, text='목적 코드 :').pack()\n",
    "purpose_entry = tk.Entry(root)\n",
    "purpose_entry.pack(pady=5)\n",
    "\n",
    "tk.Label(root, text='년도 :').pack()\n",
    "year_entry = tk.Entry(root)\n",
    "year_entry.pack(pady=5)\n",
    "\n",
    "tk.Label(root, text='월 :').pack()\n",
    "month_entry = tk.Entry(root)\n",
    "month_entry.pack(pady=5)\n",
    "\n",
    "submit_button = tk.Button(root, text='예측', command=on_submit)\n",
    "submit_button.pack(pady=15)\n",
    "\n",
    "pred_label = tk.Label(root, text='예측 결과가 여기에 표시됩니다.')\n",
    "pred_label.pack(pady=10)\n",
    "\n",
    "country_entry.focus_set()\n",
    "root.bind('<Return>', on_submit)\n",
    "root.mainloop()\n"
   ]
  },
  {
   "cell_type": "code",
   "execution_count": null,
   "id": "cb627295",
   "metadata": {},
   "outputs": [],
   "source": [
    "df"
   ]
  },
  {
   "cell_type": "code",
   "execution_count": null,
   "id": "b7204e90",
   "metadata": {},
   "outputs": [],
   "source": []
  },
  {
   "cell_type": "code",
   "execution_count": null,
   "id": "c6cb81c2",
   "metadata": {},
   "outputs": [],
   "source": []
  },
  {
   "cell_type": "code",
   "execution_count": null,
   "id": "183262cf",
   "metadata": {},
   "outputs": [],
   "source": []
  },
  {
   "cell_type": "code",
   "execution_count": null,
   "id": "dd55890e",
   "metadata": {},
   "outputs": [],
   "source": []
  },
  {
   "cell_type": "code",
   "execution_count": null,
   "id": "62bce645",
   "metadata": {},
   "outputs": [],
   "source": []
  },
  {
   "cell_type": "code",
   "execution_count": null,
   "id": "19489cc4",
   "metadata": {},
   "outputs": [],
   "source": []
  },
  {
   "cell_type": "code",
   "execution_count": null,
   "id": "b87a6365",
   "metadata": {},
   "outputs": [],
   "source": []
  },
  {
   "cell_type": "code",
   "execution_count": null,
   "id": "d0aa54a1",
   "metadata": {},
   "outputs": [],
   "source": []
  },
  {
   "cell_type": "code",
   "execution_count": null,
   "id": "095d8559",
   "metadata": {},
   "outputs": [],
   "source": []
  },
  {
   "cell_type": "code",
   "execution_count": null,
   "id": "9a013a51",
   "metadata": {},
   "outputs": [],
   "source": []
  },
  {
   "cell_type": "code",
   "execution_count": null,
   "id": "8924d36f",
   "metadata": {},
   "outputs": [],
   "source": []
  },
  {
   "cell_type": "code",
   "execution_count": null,
   "id": "90609963",
   "metadata": {},
   "outputs": [],
   "source": []
  },
  {
   "cell_type": "code",
   "execution_count": null,
   "id": "269d4c29",
   "metadata": {},
   "outputs": [],
   "source": []
  },
  {
   "cell_type": "code",
   "execution_count": null,
   "id": "7bbad5f4",
   "metadata": {},
   "outputs": [],
   "source": []
  },
  {
   "cell_type": "code",
   "execution_count": null,
   "id": "596ea5bc",
   "metadata": {},
   "outputs": [],
   "source": []
  },
  {
   "cell_type": "code",
   "execution_count": null,
   "id": "df287709",
   "metadata": {},
   "outputs": [],
   "source": []
  }
 ],
 "metadata": {
  "kernelspec": {
   "display_name": "Python 3 (ipykernel)",
   "language": "python",
   "name": "python3"
  },
  "language_info": {
   "codemirror_mode": {
    "name": "ipython",
    "version": 3
   },
   "file_extension": ".py",
   "mimetype": "text/x-python",
   "name": "python",
   "nbconvert_exporter": "python",
   "pygments_lexer": "ipython3",
   "version": "3.10.9"
  },
  "toc": {
   "base_numbering": 1,
   "nav_menu": {},
   "number_sections": true,
   "sideBar": true,
   "skip_h1_title": false,
   "title_cell": "Table of Contents",
   "title_sidebar": "Contents",
   "toc_cell": false,
   "toc_position": {},
   "toc_section_display": true,
   "toc_window_display": false
  }
 },
 "nbformat": 4,
 "nbformat_minor": 5
}
