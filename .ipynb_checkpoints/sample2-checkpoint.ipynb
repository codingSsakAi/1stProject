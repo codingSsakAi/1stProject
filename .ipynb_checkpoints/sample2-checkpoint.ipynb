{
 "cells": [
  {
   "cell_type": "code",
   "execution_count": null,
   "id": "53aea8a4",
   "metadata": {},
   "outputs": [],
   "source": [
    "\n",
    "# ✅ 2탄: Feature Engineering → 학습 → 저장 → 예측 샘플\n",
    "\n",
    "import pandas as pd\n",
    "import numpy as np\n",
    "from sklearn.model_selection import train_test_split\n",
    "from sklearn.ensemble import RandomForestRegressor\n",
    "from sklearn.metrics import mean_absolute_error, mean_squared_error\n",
    "import joblib\n",
    "\n",
    "# 1️⃣ 파이프라인 출력 데이터 로드\n",
    "df = pd.read_csv('foreign_visitors_pipeline_ready.csv')\n",
    "\n",
    "# 2️⃣ X, y 분리\n",
    "X = df[['country_code', 'purpose_code', 'year', 'month',\n",
    "        'is_peak', 'is_holiday',\n",
    "        'lag_1', 'lag_3', 'lag_6',\n",
    "        'rolling_mean_3', 'rolling_mean_6', 'rolling_mean_12',\n",
    "        'quarter']]\n",
    "y = df['visitors_num']\n",
    "\n",
    "# 3️⃣ Train / Test Split\n",
    "train = df[df['year'] < 2024]\n",
    "test = df[df['year'] >= 2024]\n",
    "\n",
    "X_train = train[X.columns]\n",
    "y_train = train['visitors_num']\n",
    "X_test = test[X.columns]\n",
    "y_test = test['visitors_num']\n",
    "\n",
    "# 4️⃣ RandomForest 모델 학습\n",
    "model = RandomForestRegressor(n_estimators=100, random_state=42)\n",
    "model.fit(X_train, y_train)\n",
    "\n",
    "# 5️⃣ 예측 & 평가\n",
    "y_pred = model.predict(X_test)\n",
    "mae = mean_absolute_error(y_test, y_pred)\n",
    "rmse = mean_squared_error(y_test, y_pred) ** 0.5\n",
    "\n",
    "print(f'MAE: {mae:.2f}, RMSE: {rmse:.2f}')\n",
    "\n",
    "# 6️⃣ 모델 저장\n",
    "joblib.dump(model, 'foreign_visitors_model_rf.joblib')\n",
    "\n",
    "# 7️⃣ 샘플 예측\n",
    "sample_input = X_test.iloc[0:1]\n",
    "sample_pred = model.predict(sample_input)\n",
    "print(f\"샘플 입력값 예측: {round(sample_pred[0])}명\")\n",
    "\n",
    "sample_input\n"
   ]
  }
 ],
 "metadata": {
  "kernelspec": {
   "display_name": "Python 3 (ipykernel)",
   "language": "python",
   "name": "python3"
  },
  "language_info": {
   "codemirror_mode": {
    "name": "ipython",
    "version": 3
   },
   "file_extension": ".py",
   "mimetype": "text/x-python",
   "name": "python",
   "nbconvert_exporter": "python",
   "pygments_lexer": "ipython3",
   "version": "3.10.9"
  },
  "toc": {
   "base_numbering": 1,
   "nav_menu": {},
   "number_sections": true,
   "sideBar": true,
   "skip_h1_title": false,
   "title_cell": "Table of Contents",
   "title_sidebar": "Contents",
   "toc_cell": false,
   "toc_position": {},
   "toc_section_display": true,
   "toc_window_display": false
  }
 },
 "nbformat": 4,
 "nbformat_minor": 5
}
